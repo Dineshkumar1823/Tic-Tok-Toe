{
  "cells": [
    {
      "cell_type": "code",
      "execution_count": 1,
      "metadata": {
        "id": "MWfP1G0rtAI5"
      },
      "outputs": [],
      "source": [
        "from IPython.display import clear_output\n",
        "\n",
        "def display_board(board):\n",
        "  clear_output()\n",
        "  print(board[7]+'|' +board[8]+'|'+board[9] )\n",
        "  print(board[4]+'|' +board[5]+'|'+board[6] )\n",
        "  print(board[1]+'|' +board[2]+'|'+board[3] )"
      ]
    },
    {
      "cell_type": "markdown",
      "metadata": {
        "id": "JK8jzIM7xxEQ"
      },
      "source": [
        "run your function on a test version of the board list, and make adjustments as necessary"
      ]
    },
    {
      "cell_type": "code",
      "execution_count": 2,
      "metadata": {
        "colab": {
          "base_uri": "https://localhost:8080/"
        },
        "id": "wL6u4WmfwoFg",
        "outputId": "89e8c32a-53c3-4269-85d6-f369ff67df43"
      },
      "outputs": [
        {
          "output_type": "stream",
          "name": "stdout",
          "text": [
            "X|O|O\n",
            "X|X|O\n",
            "X|O|O\n"
          ]
        }
      ],
      "source": [
        "test_board = ['#','X','O','O','X','X','O','X','O','O']\n",
        "display_board(test_board)\n"
      ]
    },
    {
      "cell_type": "code",
      "execution_count": 3,
      "metadata": {
        "id": "PQXIHbGOwrWT"
      },
      "outputs": [],
      "source": [
        "test_board = [' ']*10"
      ]
    },
    {
      "cell_type": "code",
      "execution_count": 4,
      "metadata": {
        "colab": {
          "base_uri": "https://localhost:8080/"
        },
        "id": "Sky2cdsVyZgB",
        "outputId": "db30acfe-d436-4ee0-8eb0-0aed585dd73f"
      },
      "outputs": [
        {
          "output_type": "stream",
          "name": "stdout",
          "text": [
            " | | \n",
            " | | \n",
            " | | \n"
          ]
        }
      ],
      "source": [
        "\n",
        "display_board(test_board)"
      ]
    },
    {
      "cell_type": "code",
      "execution_count": 5,
      "metadata": {
        "id": "5qFfztOFycFR"
      },
      "outputs": [],
      "source": [
        "#Player Input\n",
        "\n",
        "def player_input():\n",
        "\n",
        "  marker = ' '\n",
        "\n",
        "  # Keep asking the player 1\n",
        "  while marker !='X' and marker !='O':\n",
        "    marker = input('Please choose the Marker X or O   ')\n",
        "\n",
        "\n",
        "  # Suggest the Player 2 for opposite \n",
        "\n",
        "  player1= marker\n",
        "  if player1 == 'X':\n",
        "    player2 = 'O'\n",
        "  else:\n",
        "    player1 = 'O'\n",
        "\n",
        "  return(player1,player2)\n",
        "  "
      ]
    },
    {
      "cell_type": "code",
      "execution_count": 6,
      "metadata": {
        "colab": {
          "base_uri": "https://localhost:8080/"
        },
        "id": "tTCOu_Uhz0e_",
        "outputId": "bfbb87dd-baec-4e9c-d6d5-6d51fbd0d0eb"
      },
      "outputs": [
        {
          "name": "stdout",
          "output_type": "stream",
          "text": [
            "Please choose the Marker X or O   X\n"
          ]
        }
      ],
      "source": [
        "player1_marker, player2_marker = player_input()"
      ]
    },
    {
      "cell_type": "code",
      "execution_count": 7,
      "metadata": {
        "colab": {
          "base_uri": "https://localhost:8080/",
          "height": 35
        },
        "id": "V1s4cWor1JP6",
        "outputId": "e02dac59-a660-47b5-bf1d-f068122fe8d2"
      },
      "outputs": [
        {
          "output_type": "execute_result",
          "data": {
            "text/plain": [
              "'X'"
            ],
            "application/vnd.google.colaboratory.intrinsic+json": {
              "type": "string"
            }
          },
          "metadata": {},
          "execution_count": 7
        }
      ],
      "source": [
        "player1_marker"
      ]
    },
    {
      "cell_type": "code",
      "execution_count": 8,
      "metadata": {
        "id": "m5f0TpWS1poh"
      },
      "outputs": [],
      "source": [
        "# Defining the position of X Or O\n",
        "\n",
        "def place_marker(board, marker, position):\n",
        "  board[position]= marker"
      ]
    },
    {
      "cell_type": "code",
      "execution_count": 9,
      "metadata": {
        "id": "D73b6weu6lsA"
      },
      "outputs": [],
      "source": [
        "place_marker(test_board,'*',9)"
      ]
    },
    {
      "cell_type": "code",
      "execution_count": 10,
      "metadata": {
        "colab": {
          "base_uri": "https://localhost:8080/"
        },
        "id": "OBvCfSOg63fq",
        "outputId": "d23fd065-8b3a-43b5-af69-1a211952d237"
      },
      "outputs": [
        {
          "output_type": "stream",
          "name": "stdout",
          "text": [
            " | |*\n",
            " | | \n",
            " | | \n"
          ]
        }
      ],
      "source": [
        "display_board(test_board)"
      ]
    },
    {
      "cell_type": "code",
      "execution_count": 11,
      "metadata": {
        "id": "3mDC_R787ZC5"
      },
      "outputs": [],
      "source": [
        "def win_check(board,mark):\n",
        "    \n",
        "    return ((board[7] == mark and board[8] == mark and board[9] == mark) or # across the top\n",
        "    (board[4] == mark and board[5] == mark and board[6] == mark) or # across the middle\n",
        "    (board[1] == mark and board[2] == mark and board[3] == mark) or # across the bottom\n",
        "    (board[7] == mark and board[4] == mark and board[1] == mark) or # down the middle\n",
        "    (board[8] == mark and board[5] == mark and board[2] == mark) or # down the middle\n",
        "    (board[9] == mark and board[6] == mark and board[3] == mark) or # down the right side\n",
        "    (board[7] == mark and board[5] == mark and board[3] == mark) or # diagonal\n",
        "    (board[9] == mark and board[5] == mark and board[1] == mark)) # diagonal"
      ]
    },
    {
      "cell_type": "code",
      "execution_count": 12,
      "metadata": {
        "colab": {
          "base_uri": "https://localhost:8080/"
        },
        "id": "6GFgdcNb9cvq",
        "outputId": "f764a527-7b38-4a5a-b139-ce30a7306d06"
      },
      "outputs": [
        {
          "output_type": "execute_result",
          "data": {
            "text/plain": [
              "False"
            ]
          },
          "metadata": {},
          "execution_count": 12
        }
      ],
      "source": [
        "win_check(test_board, 'X')"
      ]
    },
    {
      "cell_type": "code",
      "execution_count": 13,
      "metadata": {
        "id": "lVuo4Dv49rFa"
      },
      "outputs": [],
      "source": [
        "import random\n",
        "\n",
        "def choose_first():\n",
        "  flip = random.randint(0,1)\n",
        "\n",
        "  if flip == 0:\n",
        "    return player1\n",
        "  else:\n",
        "    return player2"
      ]
    },
    {
      "cell_type": "code",
      "execution_count": 14,
      "metadata": {
        "id": "vSUhlpPT_oiP"
      },
      "outputs": [],
      "source": [
        "import random\n",
        "\n",
        "def choose_first():\n",
        "    if random.randint(0, 1) == 0:\n",
        "        return 'Player 2'\n",
        "    else:\n",
        "        return 'Player 1'"
      ]
    },
    {
      "cell_type": "code",
      "execution_count": 15,
      "metadata": {
        "id": "PRY6s_r8-1yh"
      },
      "outputs": [],
      "source": [
        "#  function that returns a boolean indicating whether a space on the board is freely available\n",
        "\n",
        "def space_check(board,position):\n",
        "  return(board[position]== ' ')"
      ]
    },
    {
      "cell_type": "code",
      "execution_count": 16,
      "metadata": {
        "id": "5wRwNdOe_ezS"
      },
      "outputs": [],
      "source": [
        "# Write a function that checks if the board is full and returns a boolean value. True if full, False otherwise.\n",
        "\n",
        "def full_board_check(board):\n",
        "    for i in range(1,10):\n",
        "        if space_check(board, i):\n",
        "            return False\n",
        "    return True"
      ]
    },
    {
      "cell_type": "markdown",
      "metadata": {
        "id": "rBT67R1bAqxE"
      },
      "source": [
        "function that asks for a player's next position (as a number 1-9) and then uses the function from step 6 to check if its a free position. If it is, then return the position for later use. \n"
      ]
    },
    {
      "cell_type": "code",
      "execution_count": 17,
      "metadata": {
        "id": "nQnQM7a3Auz6"
      },
      "outputs": [],
      "source": [
        "def player_choice(board):\n",
        "    position = 0\n",
        "    \n",
        "    while position not in [1,2,3,4,5,6,7,8,9] or not space_check(board, position):\n",
        "        position = int(input('Choose your next position: (1-9) '))\n",
        "        \n",
        "    return position\n",
        "\n"
      ]
    },
    {
      "cell_type": "code",
      "execution_count": 18,
      "metadata": {
        "id": "-P8mRs8-BBsj"
      },
      "outputs": [],
      "source": [
        "def replay():\n",
        "  return input(' Play Again..? Are u interest click Yes or No')"
      ]
    },
    {
      "cell_type": "markdown",
      "metadata": {
        "id": "weKT-tXdzEh-"
      },
      "source": [
        "RUN THE GAME!"
      ]
    },
    {
      "cell_type": "code",
      "execution_count": 19,
      "metadata": {
        "colab": {
          "base_uri": "https://localhost:8080/",
          "height": 481
        },
        "id": "33BiGSpbCQp5",
        "outputId": "a13e7b90-c446-4597-9a00-3d90a5938a59"
      },
      "outputs": [
        {
          "name": "stdout",
          "output_type": "stream",
          "text": [
            "O|X|O\n",
            "X|O|X\n",
            "O|O|X\n",
            "It is TIE\n",
            " Play Again..? Are u interest click Yes or NoNo\n"
          ]
        },
        {
          "output_type": "error",
          "ename": "KeyboardInterrupt",
          "evalue": "ignored",
          "traceback": [
            "\u001b[0;31m---------------------------------------------------------------------------\u001b[0m",
            "\u001b[0;31mKeyboardInterrupt\u001b[0m                         Traceback (most recent call last)",
            "\u001b[0;32m<ipython-input-19-e748080207e4>\u001b[0m in \u001b[0;36m<module>\u001b[0;34m\u001b[0m\n\u001b[1;32m      4\u001b[0m \u001b[0;34m\u001b[0m\u001b[0m\n\u001b[1;32m      5\u001b[0m   \u001b[0mthe_board\u001b[0m \u001b[0;34m=\u001b[0m \u001b[0;34m[\u001b[0m\u001b[0;34m' '\u001b[0m\u001b[0;34m]\u001b[0m \u001b[0;34m*\u001b[0m \u001b[0;36m10\u001b[0m\u001b[0;34m\u001b[0m\u001b[0;34m\u001b[0m\u001b[0m\n\u001b[0;32m----> 6\u001b[0;31m   \u001b[0mplayer1_marker\u001b[0m\u001b[0;34m,\u001b[0m \u001b[0mplayer2_marker\u001b[0m \u001b[0;34m=\u001b[0m \u001b[0mplayer_input\u001b[0m\u001b[0;34m(\u001b[0m\u001b[0;34m)\u001b[0m \u001b[0;31m# player_input(funciton)\u001b[0m\u001b[0;34m\u001b[0m\u001b[0;34m\u001b[0m\u001b[0m\n\u001b[0m\u001b[1;32m      7\u001b[0m   \u001b[0mturn\u001b[0m \u001b[0;34m=\u001b[0m\u001b[0mchoose_first\u001b[0m\u001b[0;34m(\u001b[0m\u001b[0;34m)\u001b[0m\u001b[0;34m\u001b[0m\u001b[0;34m\u001b[0m\u001b[0m\n\u001b[1;32m      8\u001b[0m   \u001b[0mprint\u001b[0m\u001b[0;34m(\u001b[0m\u001b[0mturn\u001b[0m\u001b[0;34m+\u001b[0m \u001b[0;34m'Will go first'\u001b[0m\u001b[0;34m)\u001b[0m\u001b[0;34m\u001b[0m\u001b[0;34m\u001b[0m\u001b[0m\n",
            "\u001b[0;32m<ipython-input-5-8e23ee8a25eb>\u001b[0m in \u001b[0;36mplayer_input\u001b[0;34m()\u001b[0m\n\u001b[1;32m      7\u001b[0m   \u001b[0;31m# Keep asking the player 1\u001b[0m\u001b[0;34m\u001b[0m\u001b[0;34m\u001b[0m\u001b[0;34m\u001b[0m\u001b[0m\n\u001b[1;32m      8\u001b[0m   \u001b[0;32mwhile\u001b[0m \u001b[0mmarker\u001b[0m \u001b[0;34m!=\u001b[0m\u001b[0;34m'X'\u001b[0m \u001b[0;32mand\u001b[0m \u001b[0mmarker\u001b[0m \u001b[0;34m!=\u001b[0m\u001b[0;34m'O'\u001b[0m\u001b[0;34m:\u001b[0m\u001b[0;34m\u001b[0m\u001b[0;34m\u001b[0m\u001b[0m\n\u001b[0;32m----> 9\u001b[0;31m     \u001b[0mmarker\u001b[0m \u001b[0;34m=\u001b[0m \u001b[0minput\u001b[0m\u001b[0;34m(\u001b[0m\u001b[0;34m'Please choose the Marker X or O   '\u001b[0m\u001b[0;34m)\u001b[0m\u001b[0;34m\u001b[0m\u001b[0;34m\u001b[0m\u001b[0m\n\u001b[0m\u001b[1;32m     10\u001b[0m \u001b[0;34m\u001b[0m\u001b[0m\n\u001b[1;32m     11\u001b[0m \u001b[0;34m\u001b[0m\u001b[0m\n",
            "\u001b[0;32m/usr/local/lib/python3.7/dist-packages/ipykernel/kernelbase.py\u001b[0m in \u001b[0;36mraw_input\u001b[0;34m(self, prompt)\u001b[0m\n\u001b[1;32m    861\u001b[0m             \u001b[0mself\u001b[0m\u001b[0;34m.\u001b[0m\u001b[0m_parent_ident\u001b[0m\u001b[0;34m,\u001b[0m\u001b[0;34m\u001b[0m\u001b[0;34m\u001b[0m\u001b[0m\n\u001b[1;32m    862\u001b[0m             \u001b[0mself\u001b[0m\u001b[0;34m.\u001b[0m\u001b[0m_parent_header\u001b[0m\u001b[0;34m,\u001b[0m\u001b[0;34m\u001b[0m\u001b[0;34m\u001b[0m\u001b[0m\n\u001b[0;32m--> 863\u001b[0;31m             \u001b[0mpassword\u001b[0m\u001b[0;34m=\u001b[0m\u001b[0;32mFalse\u001b[0m\u001b[0;34m,\u001b[0m\u001b[0;34m\u001b[0m\u001b[0;34m\u001b[0m\u001b[0m\n\u001b[0m\u001b[1;32m    864\u001b[0m         )\n\u001b[1;32m    865\u001b[0m \u001b[0;34m\u001b[0m\u001b[0m\n",
            "\u001b[0;32m/usr/local/lib/python3.7/dist-packages/ipykernel/kernelbase.py\u001b[0m in \u001b[0;36m_input_request\u001b[0;34m(self, prompt, ident, parent, password)\u001b[0m\n\u001b[1;32m    902\u001b[0m             \u001b[0;32mexcept\u001b[0m \u001b[0mKeyboardInterrupt\u001b[0m\u001b[0;34m:\u001b[0m\u001b[0;34m\u001b[0m\u001b[0;34m\u001b[0m\u001b[0m\n\u001b[1;32m    903\u001b[0m                 \u001b[0;31m# re-raise KeyboardInterrupt, to truncate traceback\u001b[0m\u001b[0;34m\u001b[0m\u001b[0;34m\u001b[0m\u001b[0;34m\u001b[0m\u001b[0m\n\u001b[0;32m--> 904\u001b[0;31m                 \u001b[0;32mraise\u001b[0m \u001b[0mKeyboardInterrupt\u001b[0m\u001b[0;34m(\u001b[0m\u001b[0;34m\"Interrupted by user\"\u001b[0m\u001b[0;34m)\u001b[0m \u001b[0;32mfrom\u001b[0m \u001b[0;32mNone\u001b[0m\u001b[0;34m\u001b[0m\u001b[0;34m\u001b[0m\u001b[0m\n\u001b[0m\u001b[1;32m    905\u001b[0m             \u001b[0;32mexcept\u001b[0m \u001b[0mException\u001b[0m \u001b[0;32mas\u001b[0m \u001b[0me\u001b[0m\u001b[0;34m:\u001b[0m\u001b[0;34m\u001b[0m\u001b[0;34m\u001b[0m\u001b[0m\n\u001b[1;32m    906\u001b[0m                 \u001b[0mself\u001b[0m\u001b[0;34m.\u001b[0m\u001b[0mlog\u001b[0m\u001b[0;34m.\u001b[0m\u001b[0mwarning\u001b[0m\u001b[0;34m(\u001b[0m\u001b[0;34m\"Invalid Message:\"\u001b[0m\u001b[0;34m,\u001b[0m \u001b[0mexc_info\u001b[0m\u001b[0;34m=\u001b[0m\u001b[0;32mTrue\u001b[0m\u001b[0;34m)\u001b[0m\u001b[0;34m\u001b[0m\u001b[0;34m\u001b[0m\u001b[0m\n",
            "\u001b[0;31mKeyboardInterrupt\u001b[0m: Interrupted by user"
          ]
        }
      ],
      "source": [
        "print('Welcome to the Tic tak Toe')\n",
        "\n",
        "while True:\n",
        "\n",
        "  the_board = [' '] * 10\n",
        "  player1_marker, player2_marker = player_input() # player_input(funciton)\n",
        "  turn =choose_first()\n",
        "  print(turn+ 'Will go first')\n",
        "\n",
        "  play_game = input('Ready to play: Y or N')\n",
        "\n",
        "  if play_game == 'Y':\n",
        "    game_on = True\n",
        "  else:\n",
        "    game_on = False\n",
        "\n",
        "  # Game Play\n",
        "\n",
        "  while game_on:\n",
        "    # Player1 Turn\n",
        "    if turn == 'Player1':\n",
        "      #Choose the Borad\n",
        "      display_board(the_board)\n",
        "      position = player_choice(the_board)\n",
        "      place_marker(the_board, player1_marker, position)\n",
        "\n",
        "      if win_check(the_board, player1_marker):\n",
        "        display_board(the_board)\n",
        "        print('Player1 WON!')\n",
        "        game_on = False\n",
        "\n",
        "      else:# Tie\n",
        "        if full_board_check(the_board):\n",
        "          display_board(the_board)\n",
        "          print('It is TIE')\n",
        "          break\n",
        "          game_on = False\n",
        "        else:\n",
        "          turn = 'Player2'     \n",
        "\n",
        "    else: #Player2 Turn\n",
        "      display_board(the_board)\n",
        "      position = player_choice(the_board)\n",
        "      place_marker(the_board, player2_marker, position)\n",
        "\n",
        "      if win_check(the_board, player1_marker):\n",
        "        display_board(the_board)\n",
        "        print('Player2 WON!')\n",
        "        game_on = False\n",
        "\n",
        "      else:# Tie\n",
        "        if full_board_check(the_board):\n",
        "          display_board(the_board)\n",
        "          print('It is TIE')\n",
        "          break\n",
        "          game_on = False\n",
        "        else:\n",
        "          turn = 'Player1'\n",
        "\n",
        "\n",
        "  if not replay():\n",
        "    break\n",
        "\n",
        "\n",
        "\n",
        "\n",
        "\n",
        "\n",
        "\n"
      ]
    }
  ],
  "metadata": {
    "colab": {
      "provenance": []
    },
    "kernelspec": {
      "display_name": "Python 3",
      "name": "python3"
    },
    "language_info": {
      "name": "python"
    }
  },
  "nbformat": 4,
  "nbformat_minor": 0
}